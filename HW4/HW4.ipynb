{
 "cells": [
  {
   "cell_type": "markdown",
   "id": "d9f63fc3",
   "metadata": {},
   "source": [
    "Задание 1 [4 балла].\n",
    "\n",
    "Напишите функцию, на вход который поступает название города и которая выдает прогноз погоды на сегодня и завтра.\n",
    "В прогноз включить температуру, осадки, влажность и скорость ветра."
   ]
  },
  {
   "cell_type": "code",
   "execution_count": 1,
   "id": "f970a4c5-ff34-4d30-a943-3c5600760622",
   "metadata": {},
   "outputs": [],
   "source": [
    "import selenium.webdriver\n",
    "from selenium.webdriver.chrome.service import Service\n",
    "from webdriver_manager.chrome import ChromeDriverManager\n",
    "from selenium.webdriver.common.keys import Keys\n",
    "from selenium.webdriver.common.by import By\n",
    "from selenium.webdriver.support.ui import WebDriverWait\n",
    "from selenium.webdriver.support import expected_conditions as EC\n",
    "# executable_path = 'C:\\chromedriver'"
   ]
  },
  {
   "cell_type": "code",
   "execution_count": 2,
   "id": "de3e3c95",
   "metadata": {},
   "outputs": [],
   "source": [
    "def _get_weather(driver):\n",
    "    info = {}\n",
    "    WebDriverWait(driver, 20).until(\\\n",
    "              EC.visibility_of(\\\n",
    "                        driver.find_element(By.XPATH, \"/html/body/section[2]/div[1]/section[2]/div/a[2]/div/div[1]/div[3]/div/div/div[1]/span[1]\")))\n",
    "    info[\"temp night\"] = driver.find_element(By.XPATH, \"/html/body/section[2]/div[1]/section[2]/div/a[2]/div/div[1]/div[3]/div/div/div[1]/span[1]\").text\n",
    "    info[\"temp day\"] = driver.find_element(By.XPATH, \"/html/body/section[2]/div[1]/section[2]/div/a[2]/div/div[1]/div[3]/div/div/div[2]/span[1]\").text\n",
    "    info[\"rainfall\"] = driver.find_element(By.XPATH, \"/html/body/section[2]/div[1]/section[3]/div/div/div/div[5]/div[5]/div[1]\").text\n",
    "    info[\"humidity\"] = driver.find_element(By.XPATH, \"/html/body/section[2]/div[1]/section[15]/div/div[3]/div/div[2]/div[5]\").text\n",
    "    info[\"wind\"] = driver.find_element(By.XPATH, \"/html/body/section[2]/div[1]/section[3]/div/div/div/div[4]/div[5]/span[1]\").text\n",
    "    return info\n",
    "    \n",
    "def get_weather(city:str):\n",
    "    # URL to use in Selenium\n",
    "    s=Service(ChromeDriverManager().install())\n",
    "    driver = selenium.webdriver.Chrome(service=s)\n",
    "    driver.get('https://www.gismeteo.ru/')\n",
    "    driver.find_element(By.XPATH, \"/html/body/header/div[2]/div[2]/div/div/div[1]/div/input\").send_keys(city)\n",
    "    WebDriverWait(driver, 1)\n",
    "    driver.find_element(By.XPATH, \"/html/body/header/div[2]/div[2]/div/div/div[1]/div/input\").send_keys(Keys.RETURN)\n",
    "    WebDriverWait(driver, 1)\n",
    "    # element = WebDriverWait(driver, 20).until(\\\n",
    "              # EC.element_to_be_clickable((By.XPATH, \"/html/body/section/div[1]/section[1]/div[1]/div/div[1]/a[1]\")))\n",
    "    # driver.find_element(By.XPATH, \"/html/body/section/div[1]/section[1]/div[1]/div/div[1]/a[1]\").click()\n",
    "    info = {}\n",
    "    info[\"today\"] = _get_weather(driver)\n",
    "    driver.find_element(By.XPATH, \"/html/body/header/div[2]/div[2]/div/div[2]/div/a[2]\").click()\n",
    "    info[\"tomorrow\"] = _get_weather(driver)\n",
    "    print(f\"Погода в городе {city}\\nСегодня: {info['today']}\\nЗавтра: {info['tomorrow']}\")"
   ]
  },
  {
   "cell_type": "code",
   "execution_count": null,
   "id": "40577afd-5268-414e-9cc2-7db2fb6f6ca2",
   "metadata": {},
   "outputs": [
    {
     "ename": "TypeError",
     "evalue": "__init__() got an unexpected keyword argument 'service'",
     "output_type": "error",
     "traceback": [
      "\u001b[1;31m---------------------------------------------------------------------------\u001b[0m",
      "\u001b[1;31mTypeError\u001b[0m                                 Traceback (most recent call last)",
      "Cell \u001b[1;32mIn[3], line 1\u001b[0m\n\u001b[1;32m----> 1\u001b[0m \u001b[43mget_weather\u001b[49m\u001b[43m(\u001b[49m\u001b[38;5;124;43m\"\u001b[39;49m\u001b[38;5;124;43mМосква\u001b[39;49m\u001b[38;5;124;43m\"\u001b[39;49m\u001b[43m)\u001b[49m\n",
      "Cell \u001b[1;32mIn[2], line 16\u001b[0m, in \u001b[0;36mget_weather\u001b[1;34m(city)\u001b[0m\n\u001b[0;32m     13\u001b[0m \u001b[38;5;28;01mdef\u001b[39;00m \u001b[38;5;21mget_weather\u001b[39m(city:\u001b[38;5;28mstr\u001b[39m):\n\u001b[0;32m     14\u001b[0m     \u001b[38;5;66;03m# URL to use in Selenium\u001b[39;00m\n\u001b[0;32m     15\u001b[0m     s\u001b[38;5;241m=\u001b[39mService(ChromeDriverManager()\u001b[38;5;241m.\u001b[39minstall())\n\u001b[1;32m---> 16\u001b[0m     driver \u001b[38;5;241m=\u001b[39m \u001b[43mselenium\u001b[49m\u001b[38;5;241;43m.\u001b[39;49m\u001b[43mwebdriver\u001b[49m\u001b[38;5;241;43m.\u001b[39;49m\u001b[43mChrome\u001b[49m\u001b[43m(\u001b[49m\u001b[43mservice\u001b[49m\u001b[38;5;241;43m=\u001b[39;49m\u001b[43ms\u001b[49m\u001b[43m)\u001b[49m\n\u001b[0;32m     17\u001b[0m     driver\u001b[38;5;241m.\u001b[39mget(\u001b[38;5;124m'\u001b[39m\u001b[38;5;124mhttps://www.gismeteo.ru/\u001b[39m\u001b[38;5;124m'\u001b[39m)\n\u001b[0;32m     18\u001b[0m     driver\u001b[38;5;241m.\u001b[39mfind_element(By\u001b[38;5;241m.\u001b[39mXPATH, \u001b[38;5;124m\"\u001b[39m\u001b[38;5;124m/html/body/header/div[2]/div[2]/div/div/div[1]/div/input\u001b[39m\u001b[38;5;124m\"\u001b[39m)\u001b[38;5;241m.\u001b[39msend_keys(city)\n",
      "\u001b[1;31mTypeError\u001b[0m: __init__() got an unexpected keyword argument 'service'"
     ]
    }
   ],
   "source": [
    "get_weather(\"Москва\")"
   ]
  },
  {
   "cell_type": "markdown",
   "id": "5fd34654",
   "metadata": {},
   "source": [
    "Задание 2 [2 балла].\n",
    "\n",
    "Воспользуйтесь рейтингом фильмов - https://www.imdb.com/chart/top\n",
    "Выгрузите ранг фильма, название, год и рейтинг.\n",
    "1. Определите самое успешное десятилетие на основе среднего и максимального рейтинга фильмов (например, десятилетием является период 2010-2019 включительно). Постройте график.\n",
    "2. Выведите таблицу в формате: Десятилетие - Самый успешый фильм этого десятилетия"
   ]
  },
  {
   "cell_type": "code",
   "execution_count": 4,
   "id": "6a277f06-3302-4929-bf48-ecf84e61f191",
   "metadata": {},
   "outputs": [],
   "source": [
    "import requests\n",
    "import numpy as np\n",
    "import pandas as pd\n",
    "from bs4 import BeautifulSoup\n",
    "import matplotlib.pyplot as plt"
   ]
  },
  {
   "cell_type": "code",
   "execution_count": 5,
   "id": "763503a0",
   "metadata": {},
   "outputs": [],
   "source": [
    "# IMDB's homepage\n",
    "imdb_url = 'https://www.imdb.com/chart/top'\n",
    "\n",
    "# Use requests to retrieve data from a given URL\n",
    "imdb_response = requests.get(imdb_url)\n",
    "\n",
    "# Parse the whole HTML page using BeautifulSoup\n",
    "imdb_soup = BeautifulSoup(imdb_response.text, 'html.parser')"
   ]
  },
  {
   "cell_type": "code",
   "execution_count": 6,
   "id": "2a54795c-29bd-4c32-b72e-f37cdc56a028",
   "metadata": {
    "tags": []
   },
   "outputs": [
    {
     "data": {
      "text/html": [
       "<div>\n",
       "<style scoped>\n",
       "    .dataframe tbody tr th:only-of-type {\n",
       "        vertical-align: middle;\n",
       "    }\n",
       "\n",
       "    .dataframe tbody tr th {\n",
       "        vertical-align: top;\n",
       "    }\n",
       "\n",
       "    .dataframe thead th {\n",
       "        text-align: right;\n",
       "    }\n",
       "</style>\n",
       "<table border=\"1\" class=\"dataframe\">\n",
       "  <thead>\n",
       "    <tr style=\"text-align: right;\">\n",
       "      <th></th>\n",
       "      <th>movie</th>\n",
       "      <th>year</th>\n",
       "      <th>rating</th>\n",
       "    </tr>\n",
       "  </thead>\n",
       "  <tbody>\n",
       "    <tr>\n",
       "      <th>0</th>\n",
       "      <td>Побег из Шоушенка</td>\n",
       "      <td>1994</td>\n",
       "      <td>9.2</td>\n",
       "    </tr>\n",
       "    <tr>\n",
       "      <th>1</th>\n",
       "      <td>Крёстный отец</td>\n",
       "      <td>1972</td>\n",
       "      <td>9.2</td>\n",
       "    </tr>\n",
       "    <tr>\n",
       "      <th>2</th>\n",
       "      <td>Темный рыцарь</td>\n",
       "      <td>2008</td>\n",
       "      <td>9.0</td>\n",
       "    </tr>\n",
       "    <tr>\n",
       "      <th>3</th>\n",
       "      <td>Крёстный отец 2</td>\n",
       "      <td>1974</td>\n",
       "      <td>9.0</td>\n",
       "    </tr>\n",
       "    <tr>\n",
       "      <th>4</th>\n",
       "      <td>12 рaзгневанных мужчин</td>\n",
       "      <td>1957</td>\n",
       "      <td>9.0</td>\n",
       "    </tr>\n",
       "    <tr>\n",
       "      <th>...</th>\n",
       "      <td>...</td>\n",
       "      <td>...</td>\n",
       "      <td>...</td>\n",
       "    </tr>\n",
       "    <tr>\n",
       "      <th>245</th>\n",
       "      <td>Дерсу Узала</td>\n",
       "      <td>1975</td>\n",
       "      <td>8.0</td>\n",
       "    </tr>\n",
       "    <tr>\n",
       "      <th>246</th>\n",
       "      <td>Прислуга</td>\n",
       "      <td>2011</td>\n",
       "      <td>8.0</td>\n",
       "    </tr>\n",
       "    <tr>\n",
       "      <th>247</th>\n",
       "      <td>Аладдин</td>\n",
       "      <td>1992</td>\n",
       "      <td>8.0</td>\n",
       "    </tr>\n",
       "    <tr>\n",
       "      <th>248</th>\n",
       "      <td>Ганди</td>\n",
       "      <td>1982</td>\n",
       "      <td>8.0</td>\n",
       "    </tr>\n",
       "    <tr>\n",
       "      <th>249</th>\n",
       "      <td>Танцующий с волками</td>\n",
       "      <td>1990</td>\n",
       "      <td>8.0</td>\n",
       "    </tr>\n",
       "  </tbody>\n",
       "</table>\n",
       "<p>250 rows × 3 columns</p>\n",
       "</div>"
      ],
      "text/plain": [
       "                      movie  year  rating\n",
       "0         Побег из Шоушенка  1994     9.2\n",
       "1             Крёстный отец  1972     9.2\n",
       "2             Темный рыцарь  2008     9.0\n",
       "3           Крёстный отец 2  1974     9.0\n",
       "4    12 рaзгневанных мужчин  1957     9.0\n",
       "..                      ...   ...     ...\n",
       "245             Дерсу Узала  1975     8.0\n",
       "246                Прислуга  2011     8.0\n",
       "247                 Аладдин  1992     8.0\n",
       "248                   Ганди  1982     8.0\n",
       "249     Танцующий с волками  1990     8.0\n",
       "\n",
       "[250 rows x 3 columns]"
      ]
     },
     "execution_count": 6,
     "metadata": {},
     "output_type": "execute_result"
    }
   ],
   "source": [
    "movies = imdb_soup.find_all('td', {'class': 'titleColumn'})\n",
    "years = [movie.find('span').text[1:-1] for movie in movies]\n",
    "movies = [movie.find('a').text for movie in movies]\n",
    "\n",
    "ratings = imdb_soup.find_all('td', {'class': 'ratingColumn imdbRating'})\n",
    "ratings = [rating.find('strong').text for rating in ratings]\n",
    "\n",
    "data = pd.DataFrame()\n",
    "data['movie'] = movies\n",
    "data['movie'] = data['movie'].astype(str)\n",
    "data['year'] = years\n",
    "data['year'] = data['year'].astype(int)\n",
    "data['rating'] = ratings\n",
    "data['rating'] = data['rating'].astype(float)\n",
    "data"
   ]
  },
  {
   "cell_type": "code",
   "execution_count": 7,
   "id": "5cb01389-af57-4433-bdc4-1c16be61ac3e",
   "metadata": {},
   "outputs": [
    {
     "data": {
      "image/png": "[encoded data removed]",
      "text/plain": [
       "<Figure size 1600x600 with 1 Axes>"
      ]
     },
     "metadata": {},
     "output_type": "display_data"
    }
   ],
   "source": [
    "_start = (data.year.min()//10*10)\n",
    "_end = ((data.year.max()//10+1)*10-1)\n",
    "x,mean, mx = [],[],[]\n",
    "for i in range(_start, _end, 10):\n",
    "    x.append(str(i) + '-' + str(i+9))\n",
    "    sm=[]\n",
    "    for j in range(data.shape[0]):\n",
    "        row = data.iloc[j]\n",
    "        if (row.year >= i and row.year<i+10):\n",
    "            sm.append(row.rating)\n",
    "    mx.append(max(sm))\n",
    "    mean.append(np.mean(sm))\n",
    "\n",
    "plt.figure(figsize=(16,6))\n",
    "plt.plot(x, mean, label='Mean rating')\n",
    "plt.plot(x, mx, label='Max rating')\n",
    "plt.legend()\n",
    "plt.show()"
   ]
  },
  {
   "cell_type": "code",
   "execution_count": 8,
   "id": "0b05fd5b-66a5-49e0-8a80-4ab120f88390",
   "metadata": {},
   "outputs": [
    {
     "name": "stdout",
     "output_type": "stream",
     "text": [
      "Самое успешное десятилетие на основе среднего рейтинга: 1990-1999\n",
      "Самое успешное десятилетие на основе максимального рейтинга: 1970-1979\n"
     ]
    }
   ],
   "source": [
    "print(f\"Самое успешное десятилетие на основе среднего рейтинга: {x[np.argmax(mean)]}\")\n",
    "print(f\"Самое успешное десятилетие на основе максимального рейтинга: {x[np.argmax(mx)]}\")"
   ]
  },
  {
   "cell_type": "code",
   "execution_count": 9,
   "id": "3db98144-470f-4739-9fb3-32134dbf378e",
   "metadata": {},
   "outputs": [
    {
     "data": {
      "text/html": [
       "<div>\n",
       "<style scoped>\n",
       "    .dataframe tbody tr th:only-of-type {\n",
       "        vertical-align: middle;\n",
       "    }\n",
       "\n",
       "    .dataframe tbody tr th {\n",
       "        vertical-align: top;\n",
       "    }\n",
       "\n",
       "    .dataframe thead th {\n",
       "        text-align: right;\n",
       "    }\n",
       "</style>\n",
       "<table border=\"1\" class=\"dataframe\">\n",
       "  <thead>\n",
       "    <tr style=\"text-align: right;\">\n",
       "      <th></th>\n",
       "      <th>decade</th>\n",
       "      <th>best movie</th>\n",
       "    </tr>\n",
       "  </thead>\n",
       "  <tbody>\n",
       "    <tr>\n",
       "      <th>0</th>\n",
       "      <td>1920-1929</td>\n",
       "      <td>Метрополис</td>\n",
       "    </tr>\n",
       "    <tr>\n",
       "      <th>1</th>\n",
       "      <td>1930-1939</td>\n",
       "      <td>Новые времена</td>\n",
       "    </tr>\n",
       "    <tr>\n",
       "      <th>2</th>\n",
       "      <td>1940-1949</td>\n",
       "      <td>Эта замечательная жизнь</td>\n",
       "    </tr>\n",
       "    <tr>\n",
       "      <th>3</th>\n",
       "      <td>1950-1959</td>\n",
       "      <td>12 рaзгневанных мужчин</td>\n",
       "    </tr>\n",
       "    <tr>\n",
       "      <th>4</th>\n",
       "      <td>1960-1969</td>\n",
       "      <td>Хороший, плохой, злой</td>\n",
       "    </tr>\n",
       "    <tr>\n",
       "      <th>5</th>\n",
       "      <td>1970-1979</td>\n",
       "      <td>Крёстный отец</td>\n",
       "    </tr>\n",
       "    <tr>\n",
       "      <th>6</th>\n",
       "      <td>1980-1989</td>\n",
       "      <td>Звёздные войны. Эпизод 5: Империя наносит отве...</td>\n",
       "    </tr>\n",
       "    <tr>\n",
       "      <th>7</th>\n",
       "      <td>1990-1999</td>\n",
       "      <td>Побег из Шоушенка</td>\n",
       "    </tr>\n",
       "    <tr>\n",
       "      <th>8</th>\n",
       "      <td>2000-2009</td>\n",
       "      <td>Темный рыцарь</td>\n",
       "    </tr>\n",
       "    <tr>\n",
       "      <th>9</th>\n",
       "      <td>2010-2019</td>\n",
       "      <td>Начало</td>\n",
       "    </tr>\n",
       "    <tr>\n",
       "      <th>10</th>\n",
       "      <td>2020-2029</td>\n",
       "      <td>Топ Ган: Мэверик</td>\n",
       "    </tr>\n",
       "  </tbody>\n",
       "</table>\n",
       "</div>"
      ],
      "text/plain": [
       "       decade                                         best movie\n",
       "0   1920-1929                                         Метрополис\n",
       "1   1930-1939                                      Новые времена\n",
       "2   1940-1949                            Эта замечательная жизнь\n",
       "3   1950-1959                             12 рaзгневанных мужчин\n",
       "4   1960-1969                              Хороший, плохой, злой\n",
       "5   1970-1979                                      Крёстный отец\n",
       "6   1980-1989  Звёздные войны. Эпизод 5: Империя наносит отве...\n",
       "7   1990-1999                                  Побег из Шоушенка\n",
       "8   2000-2009                                      Темный рыцарь\n",
       "9   2010-2019                                             Начало\n",
       "10  2020-2029                                   Топ Ган: Мэверик"
      ]
     },
     "execution_count": 9,
     "metadata": {},
     "output_type": "execute_result"
    }
   ],
   "source": [
    "x, y = [], []\n",
    "for i in range(_start, _end, 10):\n",
    "    x.append(str(i) + '-' + str(i+9))\n",
    "    nm=''\n",
    "    r=-1\n",
    "    for j in range(data.shape[0]):\n",
    "        row = data.iloc[j]\n",
    "        if (row.year >= i and row.year<i+10 and row.rating>r):\n",
    "            nm = row.movie\n",
    "            r = row.rating\n",
    "    y.append(nm)\n",
    "tops = pd.DataFrame()\n",
    "tops['decade'] = x\n",
    "tops['best movie'] = y\n",
    "tops"
   ]
  },
  {
   "cell_type": "markdown",
   "id": "f39f7118",
   "metadata": {},
   "source": [
    "Задание 3 [4 балла].\n",
    "\n",
    "Напишите скрипт, который будет нажимать на случайную внутреннюю ссылку на странице Википедии. Внутренней считается ссылка, которая ссылается на какую-то другую статью Википедии.\n",
    "Ссылка должна быть из основного информационного блока. Функциональные ссылки из верхнего, бокового и нижнего меню в этой процедуре участвовать не должны.\n",
    "\n",
    "На вход функции поступает число повторений этой процедуры. Переходы не прерываются, то есть при переходе на следующую статью следующая ссылка выбирается именно среди ссылок этой статьи.\n",
    "\n",
    "Выведите путь (последовательность) по названиям статей, которые встретились в процессе перехода по страницам."
   ]
  },
  {
   "cell_type": "code",
   "execution_count": 10,
   "id": "f9c1ea20",
   "metadata": {
    "tags": []
   },
   "outputs": [
    {
     "name": "stdout",
     "output_type": "stream",
     "text": [
      "1# John Clark (Delaware governor)\n",
      "2# Smyrna, Delaware\n",
      "3# Race and ethnicity in the United States census\n",
      "4# Self-concept\n",
      "5# Carl Rogers\n",
      "6# Person-centered therapy\n",
      "7# Unconditional positive regard\n",
      "8# Humanistic psychology\n",
      "9# Psychology\n",
      "10# Psychological operations (United States)\n"
     ]
    }
   ],
   "source": [
    "from random import randint\n",
    "\n",
    "def dfs(driver, n:int):\n",
    "    banned_tokens = [\"#cite_note\", \"Citation_needed\", \"File:\", \"Edit section:\"]\n",
    "    for i in range(n):\n",
    "        print(str(i+1) + \"#\", driver.find_element(By.XPATH, '//*[@id=\"firstHeading\"]').text)\n",
    "    \n",
    "        elements = driver.find_elements(By.CSS_SELECTOR, \"div.vector-body p a\")\n",
    "        l = []\n",
    "        for element in elements:\n",
    "            href = element.get_attribute(\"href\")\n",
    "            flag=True\n",
    "            for token in banned_tokens:\n",
    "                if(token in href): flag=False\n",
    "            if(flag): l.append(element)\n",
    "        if(len(l)==0):\n",
    "            print(\"Empty page, abort\")\n",
    "            return\n",
    "        el = l[randint(0, len(l)-1)]\n",
    "        el.click()\n",
    "\n",
    "s=Service(ChromeDriverManager().install())\n",
    "driver = selenium.webdriver.Chrome(service=s)\n",
    "driver.get('https://en.wikipedia.org/wiki/Special:Random')\n",
    "\n",
    "dfs(driver, 10)"
   ]
  }
 ],
 "metadata": {
  "kernelspec": {
   "display_name": "Python 3 (ipykernel)",
   "language": "python",
   "name": "python3"
  },
  "language_info": {
   "codemirror_mode": {
    "name": "ipython",
    "version": 3
   },
   "file_extension": ".py",
   "mimetype": "text/x-python",
   "name": "python",
   "nbconvert_exporter": "python",
   "pygments_lexer": "ipython3",
   "version": "3.8.16"
  }
 },
 "nbformat": 4,
 "nbformat_minor": 5
}
