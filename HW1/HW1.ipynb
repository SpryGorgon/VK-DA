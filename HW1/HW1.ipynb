{
 "cells": [
  {
   "cell_type": "markdown",
   "metadata": {},
   "source": [
    "### T1 [1 балл]. Сделайте калькулятор произвольных выражений, операции следующие: +, -, /, ^, *. скобок нет"
   ]
  },
  {
   "cell_type": "code",
   "execution_count": 1,
   "metadata": {},
   "outputs": [],
   "source": [
    "def calculate(input_str):\n",
    "    blocks = []\n",
    "    cur=''\n",
    "    ops = {'^':(lambda x,y: int(x)**int(y)),'/':(lambda x,y: x/y),'*':(lambda x,y: x*y),'+':(lambda x,y: x+y),'-':(lambda x,y: x-y)}\n",
    "    levels = [['^'], ['*','/'], ['+','-']]\n",
    "    for c in input_str:\n",
    "        if(ord('0')<=ord(c)<=ord('9')):\n",
    "            cur+=c\n",
    "        elif(c in ops):\n",
    "            if(len(cur)): blocks.append(cur)\n",
    "            blocks.append(c)\n",
    "            cur=''\n",
    "        else:\n",
    "            if(len(cur)): blocks.append(cur)\n",
    "            cur=''\n",
    "    if(len(cur)): blocks.append(cur)\n",
    "    \n",
    "    for level in levels:\n",
    "        i=1\n",
    "        while(True):\n",
    "            if(i>=len(blocks)-1): break\n",
    "            if(blocks[i] in level):\n",
    "                op = blocks[i]\n",
    "                l,r = float(blocks[i-1]), float(blocks[i+1])\n",
    "                blocks.pop(i+1); blocks.pop(i); blocks.pop(i-1)\n",
    "                blocks.insert(i-1, ops[op](l,r))\n",
    "                i-=1\n",
    "            else:\n",
    "                i+=1\n",
    "    \n",
    "    return float(blocks[0])"
   ]
  },
  {
   "cell_type": "markdown",
   "metadata": {},
   "source": [
    "#### Дополнить еще 2-мя своими тестами"
   ]
  },
  {
   "cell_type": "code",
   "execution_count": 2,
   "metadata": {},
   "outputs": [],
   "source": [
    "assert calculate(\"2 + 2 * 2\") == eval(\"2 + 2 * 2\")\n",
    "assert calculate(\"345 / 5 * 21\") == eval(\"345 / 5 * 21\")\n",
    "assert calculate(\"3^3 - 10 + 41 * 3\") == eval(\"3**3 - 10 + 41 * 3\")\n",
    "assert calculate(\"42 / 7 * 32\") == eval(\"42 / 7 * 32\")\n",
    "assert calculate(\"100^4 + 7 * 7 * 9 - 16 + 2 - 2 * 2\") == eval(\"100**4 + 7 * 7 * 9 - 16 + 2 - 2 * 2\")\n",
    "assert calculate(\"18 - 7 * 3 + 63 / 7\") == eval(\"18 - 7 * 3 + 63 / 7\")"
   ]
  },
  {
   "cell_type": "markdown",
   "metadata": {},
   "source": [
    "### T2 [1 балл]. Создайте функцию, которая размножает букву, после которой встретилось число, на это число.\n",
    "HE2LO -> HELLO (число означает сколько раз встречается буква)"
   ]
  },
  {
   "cell_type": "code",
   "execution_count": 3,
   "metadata": {},
   "outputs": [],
   "source": [
    "def transform_string(inp_string):\n",
    "    out=''\n",
    "    cnt=''\n",
    "    for c in inp_string:\n",
    "        if(ord('0')<=ord(c)<=ord('9')):\n",
    "            cnt+=c\n",
    "        else:\n",
    "            if(len(cnt)):\n",
    "                out+=c*int(cnt)\n",
    "                cnt=''\n",
    "            else:\n",
    "                out+=c\n",
    "    return out"
   ]
  },
  {
   "cell_type": "markdown",
   "metadata": {},
   "source": [
    "#### Дополнить еще 2-мя своими тестами"
   ]
  },
  {
   "cell_type": "code",
   "execution_count": 4,
   "metadata": {},
   "outputs": [],
   "source": [
    "assert transform_string(\"HE2LO\") == \"HELLO\"\n",
    "assert transform_string(\"HI\") == \"HI\"\n",
    "assert transform_string(\"пр12ивет\") == \"приииииииииииивет\"\n",
    "assert transform_string(\"2л3у78н65тик\") == 'ллуууннннннннннннннннннннннннннннннннннннннннннннннннннннннннннннннннннннннннннннннтттттттттттттттттттттттттттттттттттттттттттттттттттттттттттттттттик'\n",
    "assert transform_string(\"0a1b2c3d\") == 'bccddd'\n",
    "assert transform_string(\"1h2E3l2L1o\") == 'hEElllLLo'"
   ]
  },
  {
   "cell_type": "markdown",
   "metadata": {},
   "source": [
    "### T3 [1 балл]. Создайте функцию, которая выводит статистик по строке: кол-во гласных, согласных, цифр, строчных букв, прописных букв"
   ]
  },
  {
   "cell_type": "code",
   "execution_count": 5,
   "metadata": {},
   "outputs": [],
   "source": [
    "def string_stat(inp_string):\n",
    "    vows=0\n",
    "    cons=0\n",
    "    digs=0\n",
    "    lows=0\n",
    "    upps=0\n",
    "    for c in inp_string:\n",
    "        if(c.lower() in 'aeiouyаоуыэеёиюя'): vows+=1\n",
    "        if(c.lower() in 'bcdfghjklmnpqrstvwxzбвгджзйклмнпрстфхцчшщ'): cons+=1\n",
    "        if(ord('0')<=ord(c)<=ord('9')): digs+=1\n",
    "        elif(c==c.lower()): lows+=1\n",
    "        elif(c==c.upper()): upps+=1\n",
    "    return (vows, cons, digs, lows, upps)"
   ]
  },
  {
   "cell_type": "markdown",
   "metadata": {},
   "source": [
    "#### Дополнить еще 2-мя своими тестами"
   ]
  },
  {
   "cell_type": "code",
   "execution_count": 6,
   "metadata": {},
   "outputs": [],
   "source": [
    "assert string_stat(\"Тевирп\") == (2, 4, 0, 5, 1)\n",
    "assert string_stat(\"КоРоВа4\") == (3, 3, 1, 3, 3)\n",
    "assert string_stat(\"Т41баллНапишите\") == (5, 8, 2, 11, 2)\n",
    "assert string_stat(\"Напримеризkv1v2вv1k1\") == (4, 12, 4, 15, 1)"
   ]
  },
  {
   "cell_type": "markdown",
   "metadata": {},
   "source": [
    "### Т4 [1 балл]. Напишите функцию, инвертирующую словарь.\n",
    "Например, из k - [v_1, v_2] в v_1 - [k_1]"
   ]
  },
  {
   "cell_type": "code",
   "execution_count": 7,
   "metadata": {},
   "outputs": [],
   "source": [
    "def dict_inverter(input_dict):\n",
    "    dct={}\n",
    "    for key in input_dict:\n",
    "        for val in input_dict[key]: \n",
    "            if(val not in dct): dct[val]=key\n",
    "            elif(isinstance(dct[val], list)): dct[val] = dct[val] + [key]\n",
    "            else: dct[val] = [dct[val], key]\n",
    "    return dct"
   ]
  },
  {
   "cell_type": "markdown",
   "metadata": {},
   "source": [
    "#### Дополнить еще 1-м своим тестом"
   ]
  },
  {
   "cell_type": "code",
   "execution_count": 8,
   "metadata": {},
   "outputs": [],
   "source": [
    "assert dict_inverter({\"mango\" : [\"eatable\"], \"pillow\": [\"sleepable\"]}) == {\"eatable\": \"mango\", \"sleepable\": \"pillow\"}\n",
    "assert dict_inverter({\"mango\" : [\"eatable\", \"readable\"]}) == {\"readable\":\"mango\", \"eatable\":\"mango\"}\n",
    "assert dict_inverter({\"mango\" : [\"eatable\"], \"banana\": [\"eatable\"]}) == {\"eatable\": [\"mango\", \"banana\"]}\n",
    "assert dict_inverter({\"a\" : [\"1\",\"2\"], \"b\": [\"1\",\"2\"]}) == {\"1\" : [\"a\",\"b\"], \"2\": [\"a\",\"b\"]}"
   ]
  },
  {
   "cell_type": "markdown",
   "metadata": {},
   "source": [
    "### T5 [2 балла]. Средствами NumPy реализуйте функцию для применения метода главных компонент (снижение размерности).\n",
    "На вход подается двумерная матрица (NxM) и число компонент (k), на выходе получите матрицу сниженной размерности (Nxk)\n",
    "https://medium.com/analytics-vidhya/understanding-principle-component-analysis-pca-step-by-step-e7a4bb4031d9\n",
    "#### Протестируйте ее на некоторой матрице"
   ]
  },
  {
   "cell_type": "code",
   "execution_count": 9,
   "metadata": {},
   "outputs": [
    {
     "data": {
      "text/plain": [
       "array([[ 1.40033078e-02,  7.55974765e-01],\n",
       "       [-2.55653399e+00, -7.80431775e-01],\n",
       "       [-5.14801919e-02,  1.25313470e+00],\n",
       "       [ 1.01415002e+00,  2.38808310e-04],\n",
       "       [ 1.57986086e+00, -1.22891650e+00]])"
      ]
     },
     "execution_count": 9,
     "metadata": {},
     "output_type": "execute_result"
    }
   ],
   "source": [
    "import numpy as np\n",
    "def PCA(x_:np.ndarray, k:int):\n",
    "    x = (x_.copy() - x_.mean(axis=0, keepdims=True))/x_.std(axis=0, keepdims=True, ddof=1)\n",
    "    cov = np.cov(x.T, bias=True)\n",
    "    eigw, eigv = np.linalg.eig(cov)\n",
    "    ind = np.argsort(eigw)[::-1][:k]\n",
    "    eigw, eigv = eigw[ind], eigv.T[ind]\n",
    "    x = x@eigv.T\n",
    "    return x\n",
    "    \n",
    "X = np.array([[1,2,3,4],[5,5,6,7],[1,4,2,3],[5,3,2,1],[8,1,2,2]]) # из примера по ссылке\n",
    "PCA(X,2)"
   ]
  },
  {
   "cell_type": "markdown",
   "metadata": {
    "tags": []
   },
   "source": [
    "### Т6 [4 балла]. Напишите в виде класса NashNumPy свой NumPy, но выполняющий матричные операции только на одномерных и двумерных массивах. Должны быть реализованы следующие операции (в случае, если по правилам линейной алгебры такая операция невозможна, то должна возвращаться соответствующая ошибка):\n",
    "- создание объекта класса NashNumPy - через список, через заполнение 0, через заполнение 1\n",
    "- красивое распечатывание объекта класса\n",
    "- применение некоторой (подаваемой на вход) функции ко всем элементам массива\n",
    "- размерность объекта класса\n",
    "- матричное сложение (и разность)\n",
    "- матричное произведение\n",
    "- произведение Адамара\n",
    "- вертикальное соединение\n",
    "- горизонтальное соединение\n",
    "\n",
    "#### Напишите собственные проверки работоспособности функции"
   ]
  },
  {
   "cell_type": "code",
   "execution_count": 10,
   "metadata": {
    "tags": []
   },
   "outputs": [],
   "source": [
    "class NashNumPy:\n",
    "    def __init__(self, val=None, shape=None):\n",
    "        self.vals  = None\n",
    "        self.ndims = None\n",
    "        self.shape = None\n",
    "        if(isinstance(val, list)):\n",
    "            self.vals = val.copy()\n",
    "            self.ndims = (2 if isinstance(val[0], list) else 1)\n",
    "            self.shape = ((len(val), len(val[0])) if self.ndims==2 else (len(val),))\n",
    "        elif(shape is not None):\n",
    "            self.shape = (shape if isinstance(shape, tuple) else (shape, ))\n",
    "            self.ndims = len(shape)\n",
    "            if(self.ndims==1):\n",
    "                self.vals = [val for i in range(shape[0])]\n",
    "            else:\n",
    "                self.vals = [[val for j in range(shape[1])] for i in range(shape[0])]\n",
    "        else:\n",
    "            raise ValueError\n",
    "    \n",
    "    @staticmethod\n",
    "    def zeros(shape):\n",
    "        return NashNumPy(0., shape)\n",
    "    \n",
    "    @staticmethod\n",
    "    def ones(shape):\n",
    "        return NashNumPy(1., shape)\n",
    "    \n",
    "    @staticmethod\n",
    "    def hstack(arrs):\n",
    "        if(len(arrs)<2):\n",
    "            raise ValueError\n",
    "        for i in range(len(arrs)-1):\n",
    "            if(arrs[i].ndims != arrs[i+1].ndims and (arrs[i].ndims==1 or arrs[i].shape[0] == arrs[i+1].shape[0])):\n",
    "                raise ValueError\n",
    "        vals = ([[] for i in range(arrs[0].shape[0])] if arrs[0].ndims==2 else [])\n",
    "        for arr in arrs:\n",
    "            if(arr.ndims==1): \n",
    "                for v in arr.vals: vals.append(v)\n",
    "            else:\n",
    "                for i in range(arr.shape[0]):\n",
    "                    vals[i].extend(arr.vals[i])\n",
    "        return NashNumPy(vals)\n",
    "    \n",
    "    @staticmethod\n",
    "    def vstack(arrs):\n",
    "        if(len(arrs)<2):\n",
    "            raise ValueError\n",
    "        for i in range(len(arrs)-1):\n",
    "            if(arrs[i].ndims != arrs[i+1].ndims and (arrs[i].ndims==1 or arrs[i].shape[1] == arrs[i+1].shape[1])):\n",
    "                raise ValueError\n",
    "        vals = []\n",
    "        for arr in arrs:\n",
    "            if(arr.ndims==1): \n",
    "                for v in arr.vals: vals.append(v)\n",
    "            else:\n",
    "                for row in arr.vals:\n",
    "                    vals.append(row.copy())\n",
    "        return NashNumPy(vals)\n",
    "    \n",
    "    def __str__(self):\n",
    "        tp = ('vector' if self.ndims==1 else 'matrix')+'('\n",
    "        s = tp+\"[\"\n",
    "        for i,row in enumerate(self.vals):\n",
    "            s+=(\" \"*(len(tp)+1) if i>0 else \"\") + str(row)+(f\"], shape={self.shape})\" if i==(self.shape[0]-1) else \"\\n\")\n",
    "        return s\n",
    "    \n",
    "    def __repr__(self):\n",
    "        return self.__str__()\n",
    "    \n",
    "    def apply_wise(self, func):\n",
    "        v = self.vals.copy()\n",
    "        if(self.ndims==1):\n",
    "            for i in range(self.shape[0]): v[i] = func(v[i])\n",
    "        else:\n",
    "            for i in range(self.shape[0]):\n",
    "                for j in range(self.shape[1]):\n",
    "                    v[i][j] = func(v[i][j])\n",
    "        return NashNumPy(v)\n",
    "    \n",
    "    def sum(self, other):\n",
    "        if(self.shape != other.shape):\n",
    "            raise ValueError\n",
    "        res = NashNumPy.zeros(self.shape)\n",
    "        if(self.ndims==1):\n",
    "            for i in range(self.shape[0]):\n",
    "                res.vals[i] = self.vals[i] + other.vals[i]\n",
    "        else:\n",
    "            for i in range(self.shape[0]):\n",
    "                for j in range(self.shape[1]):\n",
    "                    res.vals[i][j] = self.vals[i][j] + other.vals[i][j]\n",
    "        return res\n",
    "    \n",
    "    def sub(self, other):\n",
    "        if(self.shape != other.shape):\n",
    "            raise ValueError\n",
    "        res = NashNumPy.zeros(self.shape)\n",
    "        if(self.ndims==1):\n",
    "            for i in range(self.shape[0]):\n",
    "                res.vals[i] = self.vals[i] - other.vals[i]\n",
    "        else:\n",
    "            for i in range(self.shape[0]):\n",
    "                for j in range(self.shape[1]):\n",
    "                    res.vals[i][j] = self.vals[i][j] - other.vals[i][j]\n",
    "        return res\n",
    "    \n",
    "    def mul(self, other): # Adamar's multiplication\n",
    "        if(self.shape != other.shape):\n",
    "            raise ValueError\n",
    "        res = NashNumPy.zeros(self.shape)\n",
    "        if(self.ndims==1):\n",
    "            for i in range(self.shape[0]):\n",
    "                res.vals[i] = self.vals[i] * other.vals[i]\n",
    "        else:\n",
    "            for i in range(self.shape[0]):\n",
    "                for j in range(self.shape[1]):\n",
    "                    res.vals[i][j] = self.vals[i][j] * other.vals[i][j]\n",
    "        return res\n",
    "    \n",
    "    def matmul(self, other):\n",
    "        if(self.ndims==1 or self.shape[1]!=other.shape[0]):\n",
    "            raise ValueError\n",
    "        res = NashNumPy.zeros((self.shape[0], other.shape[1]))\n",
    "        for i in range(res.shape[0]):\n",
    "            for j in range(res.shape[1]):\n",
    "                for k in range(self.shape[1]):\n",
    "                    res.vals[i][j] += self.vals[i][k] * other.vals[k][j]\n",
    "        return res"
   ]
  },
  {
   "cell_type": "code",
   "execution_count": 11,
   "metadata": {},
   "outputs": [
    {
     "data": {
      "text/plain": [
       "matrix([[6.0, 6.0, 6.0]\n",
       "        [15.0, 15.0, 15.0]], shape=(2, 3))"
      ]
     },
     "execution_count": 11,
     "metadata": {},
     "output_type": "execute_result"
    }
   ],
   "source": [
    "a=NashNumPy([[1,2,3], [4,5,6]])\n",
    "b=NashNumPy.ones((3,3))\n",
    "c = a.matmul(b)\n",
    "c"
   ]
  },
  {
   "cell_type": "code",
   "execution_count": 12,
   "metadata": {},
   "outputs": [
    {
     "data": {
      "text/plain": [
       "matrix([[1, 2, 3]\n",
       "        [4, 5, 6]\n",
       "        [1.0, 1.0, 1.0]\n",
       "        [1.0, 1.0, 1.0]\n",
       "        [1.0, 1.0, 1.0]\n",
       "        [6.0, 6.0, 6.0]\n",
       "        [15.0, 15.0, 15.0]], shape=(7, 3))"
      ]
     },
     "execution_count": 12,
     "metadata": {},
     "output_type": "execute_result"
    }
   ],
   "source": [
    "NashNumPy.vstack((a,b,c))"
   ]
  },
  {
   "cell_type": "code",
   "execution_count": 13,
   "metadata": {},
   "outputs": [
    {
     "data": {
      "text/plain": [
       "matrix([[1, 4, 9, 36.0, 36.0, 36.0]\n",
       "        [16, 25, 36, 225.0, 225.0, 225.0]], shape=(2, 6))"
      ]
     },
     "execution_count": 13,
     "metadata": {},
     "output_type": "execute_result"
    }
   ],
   "source": [
    "NashNumPy.hstack((a,c)).apply_wise(lambda x: x**2)"
   ]
  },
  {
   "cell_type": "code",
   "execution_count": 14,
   "metadata": {},
   "outputs": [
    {
     "data": {
      "text/plain": [
       "matrix([[7.0, 8.0, 9.0]\n",
       "        [19.0, 20.0, 21.0]], shape=(2, 3))"
      ]
     },
     "execution_count": 14,
     "metadata": {},
     "output_type": "execute_result"
    }
   ],
   "source": [
    "a.sum(c)"
   ]
  },
  {
   "cell_type": "code",
   "execution_count": 15,
   "metadata": {},
   "outputs": [
    {
     "data": {
      "text/plain": [
       "matrix([[-5.0, -4.0, -3.0]\n",
       "        [-11.0, -10.0, -9.0]], shape=(2, 3))"
      ]
     },
     "execution_count": 15,
     "metadata": {},
     "output_type": "execute_result"
    }
   ],
   "source": [
    "a.sub(c)"
   ]
  },
  {
   "cell_type": "code",
   "execution_count": 16,
   "metadata": {},
   "outputs": [
    {
     "data": {
      "text/plain": [
       "matrix([[6.0, 12.0, 18.0]\n",
       "        [60.0, 75.0, 90.0]], shape=(2, 3))"
      ]
     },
     "execution_count": 16,
     "metadata": {},
     "output_type": "execute_result"
    }
   ],
   "source": [
    "a.mul(c)"
   ]
  },
  {
   "cell_type": "code",
   "execution_count": 17,
   "metadata": {},
   "outputs": [
    {
     "data": {
      "text/plain": [
       "vector([0.0\n",
       "        1.0\n",
       "        2.0], shape=(3,))"
      ]
     },
     "execution_count": 17,
     "metadata": {},
     "output_type": "execute_result"
    }
   ],
   "source": [
    "a=NashNumPy([1,2,3])\n",
    "b=NashNumPy.ones((3,))\n",
    "a.sub(b)"
   ]
  },
  {
   "cell_type": "code",
   "execution_count": 18,
   "metadata": {},
   "outputs": [
    {
     "data": {
      "text/plain": [
       "vector([2.0\n",
       "        3.0\n",
       "        4.0], shape=(3,))"
      ]
     },
     "execution_count": 18,
     "metadata": {},
     "output_type": "execute_result"
    }
   ],
   "source": [
    "a.sum(b)"
   ]
  },
  {
   "cell_type": "code",
   "execution_count": 19,
   "metadata": {},
   "outputs": [
    {
     "data": {
      "text/plain": [
       "vector([1.0\n",
       "        2.0\n",
       "        3.0], shape=(3,))"
      ]
     },
     "execution_count": 19,
     "metadata": {},
     "output_type": "execute_result"
    }
   ],
   "source": [
    "a.mul(b)"
   ]
  },
  {
   "cell_type": "code",
   "execution_count": 20,
   "metadata": {},
   "outputs": [
    {
     "data": {
      "text/plain": [
       "vector([1\n",
       "        4\n",
       "        9], shape=(3,))"
      ]
     },
     "execution_count": 20,
     "metadata": {},
     "output_type": "execute_result"
    }
   ],
   "source": [
    "a.apply_wise(lambda x: x**2)"
   ]
  }
 ],
 "metadata": {
  "kernelspec": {
   "display_name": "Python 3 (ipykernel)",
   "language": "python",
   "name": "python3"
  },
  "language_info": {
   "codemirror_mode": {
    "name": "ipython",
    "version": 3
   },
   "file_extension": ".py",
   "mimetype": "text/x-python",
   "name": "python",
   "nbconvert_exporter": "python",
   "pygments_lexer": "ipython3",
   "version": "3.8.16"
  }
 },
 "nbformat": 4,
 "nbformat_minor": 4
}
